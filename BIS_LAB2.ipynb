{
  "nbformat": 4,
  "nbformat_minor": 0,
  "metadata": {
    "colab": {
      "provenance": [],
      "authorship_tag": "ABX9TyOakCskEy5t2NsUIS+96PV7",
      "include_colab_link": true
    },
    "kernelspec": {
      "name": "python3",
      "display_name": "Python 3"
    },
    "language_info": {
      "name": "python"
    }
  },
  "cells": [
    {
      "cell_type": "markdown",
      "metadata": {
        "id": "view-in-github",
        "colab_type": "text"
      },
      "source": [
        "<a href=\"https://colab.research.google.com/github/Aakankshavr/BISLab/blob/main/BIS_LAB2.ipynb\" target=\"_parent\"><img src=\"https://colab.research.google.com/assets/colab-badge.svg\" alt=\"Open In Colab\"/></a>"
      ]
    },
    {
      "cell_type": "code",
      "execution_count": null,
      "metadata": {
        "colab": {
          "base_uri": "https://localhost:8080/"
        },
        "id": "zD69y5HvWWj5",
        "outputId": "222c5131-2c99-43d9-8265-24ab9789021a"
      },
      "outputs": [
        {
          "output_type": "stream",
          "name": "stdout",
          "text": [
            "Iteration 1/20, Global Best Value: 1.4805916955728267\n",
            "Iteration 2/20, Global Best Value: 0.31126555207608836\n",
            "Iteration 3/20, Global Best Value: 0.06207552760884827\n",
            "Iteration 4/20, Global Best Value: 0.06207552760884827\n",
            "Iteration 5/20, Global Best Value: 0.06207552760884827\n",
            "Iteration 6/20, Global Best Value: 0.05321526107721728\n",
            "Iteration 7/20, Global Best Value: 0.013111592352983438\n",
            "Iteration 8/20, Global Best Value: 0.013111592352983438\n",
            "Iteration 9/20, Global Best Value: 0.010047276699117978\n",
            "Iteration 10/20, Global Best Value: 0.007197758702674215\n",
            "Iteration 11/20, Global Best Value: 0.0012000209778732572\n",
            "Iteration 12/20, Global Best Value: 0.0012000209778732572\n",
            "Iteration 13/20, Global Best Value: 0.0012000209778732572\n",
            "Iteration 14/20, Global Best Value: 0.0012000209778732572\n",
            "Iteration 15/20, Global Best Value: 0.0012000209778732572\n",
            "Iteration 16/20, Global Best Value: 0.0012000209778732572\n",
            "Iteration 17/20, Global Best Value: 0.00017603451784455659\n",
            "Iteration 18/20, Global Best Value: 0.00017603451784455659\n",
            "Iteration 19/20, Global Best Value: 0.00017603451784455659\n",
            "Iteration 20/20, Global Best Value: 0.0001491454446882177\n",
            "Best Position: [ 0.00488341 -0.01119365]\n",
            "Best Value: 0.0001491454446882177\n"
          ]
        }
      ],
      "source": [
        "import numpy as np\n",
        "\n",
        "# Define the optimization problem (simple quadratic function x^2)\n",
        "def objective_function(x):\n",
        "    return np.sum(x**2)  # Sum of squares for multi-dimensional optimization\n",
        "\n",
        "# Particle class to store position, velocity, and best-known positions\n",
        "class Particle:\n",
        "    def __init__(self, bounds):\n",
        "        self.position = np.array([np.random.uniform(bound[0], bound[1]) for bound in bounds])\n",
        "        self.velocity = np.zeros_like(self.position)\n",
        "        self.best_position = self.position.copy()\n",
        "        self.best_value = float('inf')\n",
        "\n",
        "    def update_personal_best(self, value):\n",
        "        if value < self.best_value:\n",
        "            self.best_value = value\n",
        "            self.best_position = self.position.copy()\n",
        "\n",
        "# PSO algorithm\n",
        "def pso(objective_function, bounds, num_particles=30, max_iterations=20, inertia_weight=0.7, cognitive_coef=1.5, social_coef=1.5):\n",
        "    # Initialize the particles\n",
        "    particles = [Particle(bounds) for _ in range(num_particles)]\n",
        "\n",
        "    # Initialize the global best position\n",
        "    global_best_position = None\n",
        "    global_best_value = float('inf')\n",
        "\n",
        "    # Main PSO loop\n",
        "    for iteration in range(max_iterations):\n",
        "        for particle in particles:\n",
        "            # Evaluate fitness of each particle\n",
        "            fitness_value = objective_function(particle.position)\n",
        "            particle.update_personal_best(fitness_value)\n",
        "\n",
        "            # Update the global best position if necessary\n",
        "            if fitness_value < global_best_value:\n",
        "                global_best_value = fitness_value\n",
        "                global_best_position = particle.position.copy()\n",
        "\n",
        "        # Update velocity and position for each particle\n",
        "        for particle in particles:\n",
        "            inertia_component = inertia_weight * particle.velocity\n",
        "            cognitive_component = cognitive_coef * np.random.random() * (particle.best_position - particle.position)\n",
        "            social_component = social_coef * np.random.random() * (global_best_position - particle.position)\n",
        "\n",
        "            # Update the velocity\n",
        "            particle.velocity = inertia_component + cognitive_component + social_component\n",
        "\n",
        "            # Update the position\n",
        "            particle.position += particle.velocity\n",
        "\n",
        "            # Apply bounds\n",
        "            for i in range(len(bounds)):\n",
        "                particle.position[i] = np.clip(particle.position[i], bounds[i][0], bounds[i][1])\n",
        "\n",
        "        # Display progress\n",
        "        print(f\"Iteration {iteration + 1}/{max_iterations}, Global Best Value: {global_best_value}\")\n",
        "\n",
        "    return global_best_position, global_best_value\n",
        "\n",
        "# Define the search space (bounds for each dimension)\n",
        "bounds = [(-5, 5), (-5, 5)]  # Example: 2D space, bounds for each dimension\n",
        "\n",
        "# Run PSO\n",
        "best_position, best_value = pso(objective_function, bounds)\n",
        "\n",
        "print(f\"Best Position: {best_position}\")\n",
        "print(f\"Best Value: {best_value}\")\n"
      ]
    }
  ]
}