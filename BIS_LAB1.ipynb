{
  "nbformat": 4,
  "nbformat_minor": 0,
  "metadata": {
    "colab": {
      "provenance": [],
      "authorship_tag": "ABX9TyMgmSXjpb075wUGXoH1KluQ",
      "include_colab_link": true
    },
    "kernelspec": {
      "name": "python3",
      "display_name": "Python 3"
    },
    "language_info": {
      "name": "python"
    }
  },
  "cells": [
    {
      "cell_type": "markdown",
      "metadata": {
        "id": "view-in-github",
        "colab_type": "text"
      },
      "source": [
        "<a href=\"https://colab.research.google.com/github/Aakankshavr/BISLab/blob/main/BIS_LAB1.ipynb\" target=\"_parent\"><img src=\"https://colab.research.google.com/assets/colab-badge.svg\" alt=\"Open In Colab\"/></a>"
      ]
    },
    {
      "cell_type": "markdown",
      "source": [],
      "metadata": {
        "id": "H0FP5gBYDxP-"
      }
    },
    {
      "cell_type": "code",
      "execution_count": null,
      "metadata": {
        "colab": {
          "base_uri": "https://localhost:8080/"
        },
        "id": "9VVLcI6JCimt",
        "outputId": "5422ff56-01fb-4521-b150-cda742be09b3"
      },
      "outputs": [
        {
          "output_type": "stream",
          "name": "stdout",
          "text": [
            "Generation 1: Best solution: 10, Fitness: 100\n",
            "Generation 2: Best solution: 10, Fitness: 100\n",
            "Generation 3: Best solution: 10, Fitness: 100\n",
            "Generation 4: Best solution: 10, Fitness: 100\n",
            "Generation 5: Best solution: 10, Fitness: 100\n",
            "Generation 6: Best solution: 9, Fitness: 81\n",
            "Generation 7: Best solution: 9, Fitness: 81\n",
            "Generation 8: Best solution: 9, Fitness: 81\n",
            "Generation 9: Best solution: 10, Fitness: 100\n",
            "Generation 10: Best solution: 10, Fitness: 100\n",
            "Generation 11: Best solution: 10, Fitness: 100\n",
            "Generation 12: Best solution: 9, Fitness: 81\n",
            "Generation 13: Best solution: 9, Fitness: 81\n",
            "Generation 14: Best solution: 9, Fitness: 81\n",
            "Generation 15: Best solution: 9, Fitness: 81\n",
            "Generation 16: Best solution: 9, Fitness: 81\n",
            "Generation 17: Best solution: 9, Fitness: 81\n",
            "Generation 18: Best solution: 9, Fitness: 81\n",
            "Generation 19: Best solution: 9, Fitness: 81\n",
            "Generation 20: Best solution: 9, Fitness: 81\n",
            "\n",
            "Best solution found: 9, Fitness: 81\n"
          ]
        }
      ],
      "source": [
        "import random\n",
        "\n",
        "# Step 1: Define the Problem - A mathematical function to optimize\n",
        "def fitness_function(x):\n",
        "    return x ** 2\n",
        "\n",
        "# Step 2: Initialize Parameters\n",
        "population_size = 10\n",
        "mutation_rate = 0.01\n",
        "crossover_rate = 0.7\n",
        "generations = 20\n",
        "gene_pool = list(range(-10, 11))  # Search space: integers between -10 and 10\n",
        "\n",
        "# Step 3: Create Initial Population - Generate an initial population of solutions\n",
        "def create_individual():\n",
        "    return random.choice(gene_pool)\n",
        "\n",
        "def create_population(size):\n",
        "    return [create_individual() for _ in range(size)]\n",
        "\n",
        "# Step 4: Evaluate Fitness - Calculate fitness for each individual\n",
        "def evaluate_population(population):\n",
        "    return [fitness_function(individual) for individual in population]\n",
        "\n",
        "# Step 5: Selection - Select individuals based on their fitness\n",
        "def select_parents(population, fitness):\n",
        "    selected = random.choices(population, weights=fitness, k=2)\n",
        "    return selected\n",
        "\n",
        "# Step 6: Crossover - Perform crossover between two parents to create offspring\n",
        "def crossover(parent1, parent2):\n",
        "    if random.random() < crossover_rate:\n",
        "        return (parent1 + parent2) // 2  # Single-point crossover\n",
        "    return parent1\n",
        "\n",
        "# Step 7: Mutation - Apply mutation to the offspring\n",
        "def mutate(individual):\n",
        "    if random.random() < mutation_rate:\n",
        "        individual += random.choice([-1, 1])  # Mutate by a small random value\n",
        "    return individual\n",
        "\n",
        "# Step 8: Iteration - Repeat the process for multiple generations\n",
        "def genetic_algorithm():\n",
        "    population = create_population(population_size)\n",
        "\n",
        "    for generation in range(generations):\n",
        "        fitness = evaluate_population(population)\n",
        "        new_population = []\n",
        "\n",
        "        for _ in range(population_size // 2):  # Create new population\n",
        "            parent1, parent2 = select_parents(population, fitness)\n",
        "            child1 = crossover(parent1, parent2)\n",
        "            child2 = crossover(parent2, parent1)\n",
        "            new_population.append(mutate(child1))\n",
        "            new_population.append(mutate(child2))\n",
        "\n",
        "        population = new_population\n",
        "        best_individual = max(population, key=fitness_function)\n",
        "        print(f\"Generation {generation + 1}: Best solution: {best_individual}, Fitness: {fitness_function(best_individual)}\")\n",
        "\n",
        "    # Step 9: Output the Best Solution\n",
        "    return best_individual\n",
        "\n",
        "# Run the Genetic Algorithm\n",
        "best_solution = genetic_algorithm()\n",
        "print(f\"\\nBest solution found: {best_solution}, Fitness: {fitness_function(best_solution)}\")\n"
      ]
    }
  ]
}